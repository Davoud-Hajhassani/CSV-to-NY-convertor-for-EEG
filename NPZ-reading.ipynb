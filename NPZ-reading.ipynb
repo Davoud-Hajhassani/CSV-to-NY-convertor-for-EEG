{
 "cells": [
  {
   "cell_type": "code",
   "execution_count": 13,
   "id": "6e7cc8db",
   "metadata": {},
   "outputs": [],
   "source": [
    "import numpy as np\n",
    "import pandas as pd"
   ]
  },
  {
   "cell_type": "code",
   "execution_count": 14,
   "id": "d4c343c0",
   "metadata": {},
   "outputs": [],
   "source": [
    "b = np.load('subject_02_session_01.npz')"
   ]
  },
  {
   "cell_type": "code",
   "execution_count": 16,
   "id": "b58096d8",
   "metadata": {},
   "outputs": [
    {
     "data": {
      "text/plain": [
       "546"
      ]
     },
     "execution_count": 16,
     "metadata": {},
     "output_type": "execute_result"
    }
   ],
   "source": [
    "b[\"stim\"].shape\n",
    "sum(b['stim'])\n"
   ]
  },
  {
   "cell_type": "code",
   "execution_count": 19,
   "id": "88a2afd3",
   "metadata": {},
   "outputs": [
    {
     "data": {
      "text/plain": [
       "(78,)"
      ]
     },
     "execution_count": 19,
     "metadata": {},
     "output_type": "execute_result"
    }
   ],
   "source": [
    "np.where(b['stim']==2)[0].shape"
   ]
  },
  {
   "cell_type": "code",
   "execution_count": 5,
   "id": "c328d116",
   "metadata": {},
   "outputs": [
    {
     "data": {
      "text/plain": [
       "546"
      ]
     },
     "execution_count": 5,
     "metadata": {},
     "output_type": "execute_result"
    }
   ],
   "source": [
    "sum(b['stim'])"
   ]
  },
  {
   "cell_type": "code",
   "execution_count": 6,
   "id": "195a05db",
   "metadata": {},
   "outputs": [
    {
     "data": {
      "text/plain": [
       "(177248,)"
      ]
     },
     "execution_count": 6,
     "metadata": {},
     "output_type": "execute_result"
    }
   ],
   "source": [
    "c=np.array(b['stim'])\n",
    "c.shape"
   ]
  },
  {
   "cell_type": "code",
   "execution_count": 7,
   "id": "aac787a6",
   "metadata": {},
   "outputs": [
    {
     "data": {
      "text/plain": [
       "(177248, 30)"
      ]
     },
     "execution_count": 7,
     "metadata": {},
     "output_type": "execute_result"
    }
   ],
   "source": [
    "c=np.array(b['data'])\n",
    "\n",
    "\n",
    "\n",
    "c.shape\n"
   ]
  },
  {
   "cell_type": "code",
   "execution_count": 8,
   "id": "391100ad",
   "metadata": {},
   "outputs": [
    {
     "data": {
      "text/plain": [
       "(177248,)"
      ]
     },
     "execution_count": 8,
     "metadata": {},
     "output_type": "execute_result"
    }
   ],
   "source": [
    "\n",
    "d=np.array(b['stim'])\n",
    "d.shape\n"
   ]
  },
  {
   "cell_type": "code",
   "execution_count": 8,
   "id": "44aebb4f",
   "metadata": {},
   "outputs": [
    {
     "ename": "IndexError",
     "evalue": "too many indices for array: array is 1-dimensional, but 2 were indexed",
     "output_type": "error",
     "traceback": [
      "\u001b[1;31m---------------------------------------------------------------------------\u001b[0m",
      "\u001b[1;31mIndexError\u001b[0m                                Traceback (most recent call last)",
      "\u001b[1;32m~\\AppData\\Local\\Temp/ipykernel_3544/798865072.py\u001b[0m in \u001b[0;36m<module>\u001b[1;34m\u001b[0m\n\u001b[1;32m----> 1\u001b[1;33m \u001b[0mc\u001b[0m\u001b[1;33m[\u001b[0m\u001b[1;33m:\u001b[0m\u001b[1;33m,\u001b[0m\u001b[1;36m1\u001b[0m\u001b[1;33m]\u001b[0m\u001b[1;33m\u001b[0m\u001b[1;33m\u001b[0m\u001b[0m\n\u001b[0m",
      "\u001b[1;31mIndexError\u001b[0m: too many indices for array: array is 1-dimensional, but 2 were indexed"
     ]
    }
   ],
   "source": [
    "c[:,1]"
   ]
  },
  {
   "cell_type": "code",
   "execution_count": 9,
   "id": "8a8e25fe",
   "metadata": {},
   "outputs": [
    {
     "name": "stdout",
     "output_type": "stream",
     "text": [
      "['data', 'stim']\n"
     ]
    },
    {
     "data": {
      "text/plain": [
       "(2574,)"
      ]
     },
     "execution_count": 9,
     "metadata": {},
     "output_type": "execute_result"
    }
   ],
   "source": [
    "b = np.load('BI.EEG.2016-GIPSA_subject_01_session_01_run_1.npz')\n",
    "print(b.files)\n",
    "b['stim'].shape\n",
    "np.where(b['stim']==1)[0].shape"
   ]
  },
  {
   "cell_type": "code",
   "execution_count": 16,
   "id": "b2eb2904",
   "metadata": {},
   "outputs": [
    {
     "data": {
      "text/plain": [
       "(430,)"
      ]
     },
     "execution_count": 16,
     "metadata": {},
     "output_type": "execute_result"
    }
   ],
   "source": [
    "b = np.load('BI.EEG.2012-GIPSA_subject_2_session_1_run_1.npz')\n",
    "b[\"stim\"].shape\n",
    "np.where(b['stim']==1)[0].shape"
   ]
  },
  {
   "cell_type": "code",
   "execution_count": 16,
   "id": "e5a40396",
   "metadata": {
    "scrolled": true
   },
   "outputs": [
    {
     "name": "stdout",
     "output_type": "stream",
     "text": [
      "['data', 'stim']\n"
     ]
    }
   ],
   "source": [
    "print(b.files)"
   ]
  },
  {
   "cell_type": "code",
   "execution_count": 31,
   "id": "6dec39ef",
   "metadata": {},
   "outputs": [
    {
     "data": {
      "text/plain": [
       "array([[-2.1756185e-02, -2.0397527e-02, -1.0933538e-02, ...,\n",
       "        -7.6974444e-03,  6.9376035e-04,  2.1347383e-02],\n",
       "       [-1.4054394e+00, -1.1875913e+00, -5.1143980e-01, ...,\n",
       "        -8.4568018e-01, -4.5722142e-01, -2.9789928e-01],\n",
       "       [-1.8247377e+01, -1.3062835e+01, -4.3426237e+00, ...,\n",
       "        -1.3409670e+01, -1.2281225e+01, -1.4642199e+01],\n",
       "       ...,\n",
       "       [ 7.1888261e+00,  5.1716967e+00,  3.2950711e+00, ...,\n",
       "        -1.0038479e+01,  5.0599160e+00, -1.6914902e+00],\n",
       "       [ 8.6437922e+00,  5.2977786e+00,  3.8844924e+00, ...,\n",
       "        -1.0055790e+01,  4.7767429e+00, -9.0447176e-01],\n",
       "       [ 9.2186327e+00,  4.8415103e+00,  3.4224045e+00, ...,\n",
       "        -8.0047798e+00,  1.3402890e+00, -8.5617757e-01]], dtype=float32)"
      ]
     },
     "execution_count": 31,
     "metadata": {},
     "output_type": "execute_result"
    }
   ],
   "source": [
    "b['data']\n"
   ]
  },
  {
   "cell_type": "code",
   "execution_count": 17,
   "id": "67872ac3",
   "metadata": {},
   "outputs": [
    {
     "data": {
      "text/plain": [
       "array([0, 0, 0, ..., 0, 0, 0])"
      ]
     },
     "execution_count": 17,
     "metadata": {},
     "output_type": "execute_result"
    }
   ],
   "source": [
    "b['stim']"
   ]
  },
  {
   "cell_type": "code",
   "execution_count": 28,
   "id": "4c81afd4",
   "metadata": {},
   "outputs": [
    {
     "data": {
      "text/plain": [
       "(92848, 16)"
      ]
     },
     "execution_count": 28,
     "metadata": {},
     "output_type": "execute_result"
    }
   ],
   "source": [
    "c=np.array(b['data'])\n",
    "\n",
    "c.shape"
   ]
  },
  {
   "cell_type": "code",
   "execution_count": 46,
   "id": "fa7e95bc",
   "metadata": {},
   "outputs": [],
   "source": [
    "d=np.array(b['stim'])\n"
   ]
  },
  {
   "cell_type": "code",
   "execution_count": 47,
   "id": "693635b1",
   "metadata": {},
   "outputs": [
    {
     "data": {
      "text/plain": [
       "614400"
      ]
     },
     "execution_count": 47,
     "metadata": {},
     "output_type": "execute_result"
    }
   ],
   "source": [
    "len(c)"
   ]
  },
  {
   "cell_type": "code",
   "execution_count": 48,
   "id": "c56d2e63",
   "metadata": {},
   "outputs": [
    {
     "data": {
      "text/plain": [
       "2574.0"
      ]
     },
     "execution_count": 48,
     "metadata": {},
     "output_type": "execute_result"
    }
   ],
   "source": [
    "sum(d)"
   ]
  },
  {
   "cell_type": "code",
   "execution_count": null,
   "id": "7fa77a18",
   "metadata": {},
   "outputs": [],
   "source": []
  }
 ],
 "metadata": {
  "kernelspec": {
   "display_name": "Python 3.9.7 ('base')",
   "language": "python",
   "name": "python3"
  },
  "language_info": {
   "codemirror_mode": {
    "name": "ipython",
    "version": 3
   },
   "file_extension": ".py",
   "mimetype": "text/x-python",
   "name": "python",
   "nbconvert_exporter": "python",
   "pygments_lexer": "ipython3",
   "version": "3.9.7"
  },
  "vscode": {
   "interpreter": {
    "hash": "a90aeebcf29d64a654773811cc170cb25061cb2498f10ac689db374c7bf325de"
   }
  }
 },
 "nbformat": 4,
 "nbformat_minor": 5
}
